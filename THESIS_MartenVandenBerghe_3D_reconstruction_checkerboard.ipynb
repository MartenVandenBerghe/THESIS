{
 "cells": [
  {
   "cell_type": "code",
   "execution_count": null,
   "metadata": {
    "scrolled": true
   },
   "outputs": [],
   "source": [
    "import cv2\n",
    "import numpy as np\n",
    "import os\n",
    "import glob\n",
    "import matplotlib.pyplot as plt\n",
    "import sys"
   ]
  },
  {
   "cell_type": "markdown",
   "metadata": {},
   "source": [
    "# Input"
   ]
  },
  {
   "cell_type": "code",
   "execution_count": null,
   "metadata": {},
   "outputs": [],
   "source": [
    "# Data folders\n",
    "folderDATA = '...' # change ... by user input (change \\ to /)\n",
    "folderCalib = f'{folderDATA}/DATA_THESIS_MARTEN/MSI/Camera_calibration/Matrix'\n",
    "folderImages = f'{folderDATA}/DATA_THESIS_MARTEN/MSI/4_points_of_view'\n",
    "folderScripts = f'{folderDATA}/DATA_THESIS_MARTEN/Scripts'\n",
    "folderVis = f'{folderDATA}/DATA_THESIS_MARTEN/MSI/3D_reconstruct_checkerboard'\n",
    "\n",
    "sys.path.insert(0, folderScripts)\n",
    "# from datImage import * (datImage in reconstruct)\n",
    "from reconstruct import *\n",
    "\n",
    "# Camera info\n",
    "pixel_width = 6.12e-3 # [mm] infosheet PathoViewer"
   ]
  },
  {
   "cell_type": "markdown",
   "metadata": {},
   "source": [
    "# Reconstruct"
   ]
  },
  {
   "cell_type": "code",
   "execution_count": null,
   "metadata": {},
   "outputs": [],
   "source": [
    "# Find pinholes and projections\n",
    "pinholes, projections = find_pinholes_projections(\n",
    "    filesImages = sorted(glob.glob(f'{folderImages}/CLR*.DAT')),\n",
    "    fileMtx = f'{folderCalib}/mtx.npy',\n",
    "    fileDist = f'{folderCalib}/dist.npy',\n",
    "    pixel_width = pixel_width)\n",
    "print(pinholes)\n",
    "print(projections.shape)"
   ]
  },
  {
   "cell_type": "code",
   "execution_count": null,
   "metadata": {},
   "outputs": [],
   "source": [
    "# Try one reconstruction\n",
    "p = 21\n",
    "print()\n",
    "print(pinholes)\n",
    "print(projections[:, p, :])\n",
    "\n",
    "obj_estimation, obj_estimations = find_images(pinholes = pinholes, projected = projections[:, p, :], visualize=False)\n",
    "print()\n",
    "print(obj_estimation)"
   ]
  },
  {
   "cell_type": "code",
   "execution_count": null,
   "metadata": {},
   "outputs": [],
   "source": [
    "# Try many reconstructions\n",
    "reconstructions = []\n",
    "all_obj_estimations = []\n",
    "\n",
    "for p in range(projections.shape[1]):\n",
    "    obj_estimation, obj_estimations = find_images(pinholes = pinholes, projected = projections[:, p, :], visualize=False)\n",
    "    reconstructions += [obj_estimation]\n",
    "    all_obj_estimations += [obj_estimations]\n",
    "reconstructions = np.array(reconstructions)"
   ]
  },
  {
   "cell_type": "code",
   "execution_count": null,
   "metadata": {},
   "outputs": [],
   "source": [
    "all_obj_estimations"
   ]
  },
  {
   "cell_type": "markdown",
   "metadata": {},
   "source": [
    "# Visualize"
   ]
  },
  {
   "cell_type": "code",
   "execution_count": null,
   "metadata": {},
   "outputs": [],
   "source": [
    "# RGB plots\n",
    "def extract_filename(file_path):\n",
    "    parts = file_path.replace(\"\\\\\", \"/\").split(\"/\")\n",
    "    filename = parts[-1]\n",
    "    return filename.split(\".\")[0]\n",
    "\n",
    "filesImages = sorted(glob.glob(f'{folderImages}/CLR*.DAT'))\n",
    "for f in filesImages:\n",
    "    img = rescale(read_RGB(f), percentiles = None, to_uint8=True)\n",
    "    fname = extract_filename(f)\n",
    "    print(fname)\n",
    "    plt.figure()\n",
    "    plt.imshow(img)\n",
    "    plt.savefig(f'{folderVis}/{fname}.jpg')\n",
    "    plt.show()"
   ]
  },
  {
   "cell_type": "code",
   "execution_count": null,
   "metadata": {},
   "outputs": [],
   "source": [
    "elev = 30\n",
    "\n",
    "for azim in np.linspace(0,90,4):\n",
    "    fig = plt.figure(figsize=(10,10))\n",
    "    ax = fig.add_subplot(1, 1, 1, projection='3d')\n",
    "    ax.scatter(reconstructions[:,0], reconstructions[:,1], reconstructions[:,2])\n",
    "    ax.view_init(elev=elev, azim=azim)\n",
    "    plt.savefig(f'{folderVis}/reco-{elev}-{azim}.jpg')\n",
    "    plt.show()"
   ]
  },
  {
   "cell_type": "code",
   "execution_count": null,
   "metadata": {},
   "outputs": [],
   "source": [
    "elev = 0\n",
    "azim = 0\n",
    "\n",
    "fig = plt.figure(figsize=(10,10))\n",
    "ax = fig.add_subplot(1, 1, 1, projection='3d')\n",
    "ax.scatter(reconstructions[:,0], reconstructions[:,1], reconstructions[:,2])\n",
    "ax.view_init(elev=elev, azim=azim)\n",
    "plt.savefig(f'{folderVis}/reco-{elev}-{azim}.jpg')\n",
    "\n",
    "plt.show()"
   ]
  },
  {
   "cell_type": "code",
   "execution_count": null,
   "metadata": {},
   "outputs": [],
   "source": [
    "elev = 0\n",
    "azim = 90\n",
    "\n",
    "\n",
    "fig = plt.figure(figsize=(10,10))\n",
    "ax = fig.add_subplot(1, 1, 1, projection='3d')\n",
    "ax.scatter(reconstructions[:,0], reconstructions[:,1], reconstructions[:,2])\n",
    "ax.view_init(elev=elev, azim=azim)\n",
    "plt.savefig(f'{folderVis}/reco-{elev}-{azim}.jpg')\n",
    "\n",
    "plt.show()"
   ]
  },
  {
   "cell_type": "markdown",
   "metadata": {},
   "source": [
    "# Checks"
   ]
  },
  {
   "cell_type": "code",
   "execution_count": null,
   "metadata": {},
   "outputs": [],
   "source": [
    "from skspatial.objects import Plane, Line, Points"
   ]
  },
  {
   "cell_type": "code",
   "execution_count": null,
   "metadata": {},
   "outputs": [],
   "source": [
    "CHECKERBOARD = (6,8)"
   ]
  },
  {
   "cell_type": "code",
   "execution_count": null,
   "metadata": {},
   "outputs": [],
   "source": [
    "# Coplanarity\n",
    "\n",
    "points = Points(reconstructions)\n",
    "best_fit_plane = Plane.best_fit(points)\n",
    "distances = [best_fit_plane.distance_point(point) for point in points]\n",
    "# error = np.sqrt(np.dot(distances, distances) / len(distances))\n",
    "mean_dist = np.mean(distances)\n",
    "print('mean_dist:', mean_dist)\n",
    "print('max_dist:', np.max(distances))\n",
    "\n",
    "plt.figure()\n",
    "plt.hist(distances)\n",
    "plt.show()"
   ]
  },
  {
   "cell_type": "code",
   "execution_count": null,
   "metadata": {},
   "outputs": [],
   "source": [
    "# Collinearity\n",
    "\n",
    "def plot_selection(reconstructions, selection):\n",
    "    elev = 0\n",
    "    azim = 90\n",
    "    roll = 0\n",
    "    fig = plt.figure(figsize=(8,10))\n",
    "    ax = fig.add_subplot(1, 1, 1, projection='3d')\n",
    "    ax.scatter(reconstructions[:,0], reconstructions[:,1], reconstructions[:,2], color = 'lightblue')\n",
    "    ax.scatter(selection[:,0], selection[:,1], selection[:,2], color = 'red', marker = 's', s = 100)\n",
    "    ax.view_init(elev=elev, azim=azim, roll=roll)\n",
    "    plt.show()    \n",
    "\n",
    "\n",
    "N = len(reconstructions)\n",
    "all_distances = []\n",
    "    \n",
    "for i in range(CHECKERBOARD[1]):\n",
    "    selection = reconstructions[i*CHECKERBOARD[0]:(i+1)*CHECKERBOARD[0]]\n",
    "    points = Points(selection)\n",
    "    best_fit_line = Line.best_fit(points)\n",
    "    distances = [best_fit_line.distance_point(point) for point in points]\n",
    "    all_distances += distances\n",
    "#     print(len(all_distances))\n",
    "\n",
    "for i in range(CHECKERBOARD[0]):\n",
    "    selection = reconstructions[np.arange(i, N, CHECKERBOARD[0])]\n",
    "    points = Points(selection)\n",
    "    best_fit_line = Line.best_fit(points)\n",
    "    distances = [best_fit_line.distance_point(point) for point in points]\n",
    "    all_distances += distances\n",
    "#     print(len(all_distances))\n",
    "\n",
    "    \n",
    "mean_dist = np.mean(all_distances)\n",
    "print('mean_dist:', mean_dist)\n",
    "print('max_dist:', np.max(distances))\n",
    "\n",
    "plt.figure()\n",
    "plt.hist(distances)\n",
    "plt.show()"
   ]
  },
  {
   "cell_type": "code",
   "execution_count": null,
   "metadata": {},
   "outputs": [],
   "source": [
    "# Orthogonality (upper right corners)\n",
    "selections = []\n",
    "cosines = []\n",
    "for i in range(CHECKERBOARD[1]-1):\n",
    "    for j in range(CHECKERBOARD[0]-1):\n",
    "        selection = reconstructions[(i*CHECKERBOARD[0]+j, i*CHECKERBOARD[0]+j+1, i*CHECKERBOARD[0]+j+CHECKERBOARD[0]), :]\n",
    "#         plot_selection(reconstructions, selection)\n",
    "        u = selection[1]-selection[0]\n",
    "        v = selection[2]-selection[0]\n",
    "        \n",
    "        selections += [selection]\n",
    "        cosines += [np.dot(u,v)/np.linalg.norm(u)/np.linalg.norm(v)]\n",
    "        \n",
    "cosines=np.array(cosines)\n",
    "\n",
    "print('Mean absolute difference from 90 deg:', 180/np.pi*np.mean(np.abs(np.pi/2-np.arccos(cosines))), 'deg')\n",
    "print('Max absolute difference from 90 deg:', 180/np.pi*np.max(np.abs(np.pi/2-np.arccos(cosines))), 'deg')\n",
    "\n",
    "\n",
    "plt.figure()\n",
    "plt.hist(180/np.pi*(np.pi/2-np.arccos(cosines)))\n",
    "plt.show()"
   ]
  },
  {
   "cell_type": "code",
   "execution_count": null,
   "metadata": {},
   "outputs": [],
   "source": [
    "cosines_normalized = (cosines-np.min(cosines))/(np.max(cosines)-np.min(cosines))\n",
    "\n",
    "fig = plt.figure(figsize=(10,10))\n",
    "ax = fig.add_subplot(1, 1, 1, projection='3d')\n",
    "ax.scatter(reconstructions[:,0], reconstructions[:,1], reconstructions[:,2])\n",
    "\n",
    "for i in range(len(selections)):\n",
    "    plt.plot(\n",
    "        [selections[i][1,0], selections[i][0,0], selections[i][2,0]],\n",
    "        [selections[i][1,1], selections[i][0,1], selections[i][2,1]],\n",
    "        [selections[i][1,2], selections[i][0,2], selections[i][2,2]],\n",
    "        color = (cosines_normalized[i], 0, 1-cosines_normalized[i])\n",
    "    )\n",
    "\n",
    "ax.view_init()\n",
    "plt.show()\n",
    "\n"
   ]
  },
  {
   "cell_type": "code",
   "execution_count": null,
   "metadata": {},
   "outputs": [],
   "source": [
    "# Edge lengths (should be 6.12 mm)\n",
    "\n",
    "edge_lengths_x = []\n",
    "edge_lengths_y = []\n",
    "\n",
    "\n",
    "for i in range(CHECKERBOARD[1]):\n",
    "    for j in range(CHECKERBOARD[0]-1):\n",
    "        selection = reconstructions[(i*CHECKERBOARD[0]+j, i*CHECKERBOARD[0]+j+1), :]\n",
    "#         plot_selection(reconstructions, selection)\n",
    "        edge_lengths_x += [np.linalg.norm(selection[0] - selection[1])]\n",
    "        \n",
    "for i in range(CHECKERBOARD[1]-1):\n",
    "    for j in range(CHECKERBOARD[0]):\n",
    "        selection = reconstructions[(i*CHECKERBOARD[0]+j, i*CHECKERBOARD[0]+j+CHECKERBOARD[0]), :]\n",
    "#         plot_selection(reconstructions, selection)\n",
    "        edge_lengths_y += [np.linalg.norm(selection[0] - selection[1])]\n",
    "        \n",
    "edge_lengths_x = np.array(edge_lengths_x)        \n",
    "edge_lengths_y = np.array(edge_lengths_y)    \n",
    "edge_lengths = np.concatenate([edge_lengths_x, edge_lengths_y])\n",
    "        \n",
    "\n",
    "plt.figure(figsize=(20,8))\n",
    "plt.subplot(121)\n",
    "plt.hist(edge_lengths_x)\n",
    "plt.title('Edge lengths x')\n",
    "plt.subplot(122)\n",
    "plt.hist(edge_lengths_y)\n",
    "plt.title('Edge lengths y')\n",
    "plt.show()"
   ]
  },
  {
   "cell_type": "code",
   "execution_count": null,
   "metadata": {},
   "outputs": [],
   "source": [
    "edge_length_true = 6.14\n",
    "print('Mean x deviation:', np.mean(np.abs(edge_length_true-edge_lengths_x)), 'mm')\n",
    "print('Max x deviation:', np.max(np.abs(edge_length_true-edge_lengths_x)), 'mm')\n",
    "\n",
    "print()\n",
    "print('Mean y deviation:', np.mean(np.abs(edge_length_true-edge_lengths_y)), 'mm')\n",
    "print('Max y deviation:', np.max(np.abs(edge_length_true-edge_lengths_y)), 'mm')\n",
    "\n",
    "print()\n",
    "print('Mean deviation:', np.mean(np.abs(edge_length_true-edge_lengths)), 'mm')\n",
    "print('Max deviation:', np.max(np.abs(edge_length_true-edge_lengths)), 'mm')"
   ]
  },
  {
   "cell_type": "code",
   "execution_count": null,
   "metadata": {},
   "outputs": [],
   "source": [
    "# Distances between non-averaged reconstructions\n",
    "distances = np.array([np.linalg.norm(all_obj_estimations[i] - reconstructions[i], axis = 1)\n",
    " for i in range(len(reconstructions))])\n",
    "\n",
    "print('mean_dist:', np.mean(distances))\n",
    "print('max_dist:', np.max(distances))\n",
    "\n",
    "plt.figure()\n",
    "plt.hist(distances.flatten())\n",
    "plt.show()\n",
    "\n",
    "print(np.mean(distances, axis = 0))\n",
    "\n",
    "plt.figure()\n",
    "plt.hist(distances, bins = 100)\n",
    "plt.legend([f'cam {i}' for i in range(distances.shape[1])])\n",
    "plt.show()"
   ]
  },
  {
   "cell_type": "code",
   "execution_count": null,
   "metadata": {},
   "outputs": [],
   "source": [
    "\n",
    "elev = 90\n",
    "roll = 0\n",
    "azim = 0\n",
    "\n",
    "for i in range(len(reconstructions)):\n",
    "    fig = plt.figure(figsize=(15,6))\n",
    "    \n",
    "    ax = fig.add_subplot(1, 3, 1, projection='3d')\n",
    "    ax.scatter(all_obj_estimations[i][:,0], all_obj_estimations[i][:,1], all_obj_estimations[i][:,2])\n",
    "    ax.scatter(reconstructions[i,0], reconstructions[i,1], reconstructions[i,2])\n",
    "    ax.view_init(elev=90, azim=0, roll=0)\n",
    "    ax.set_xlabel('$X$')\n",
    "    ax.set_ylabel('$Y$')\n",
    "    ax.set_zlabel('$Z$')\n",
    "\n",
    "    ax = fig.add_subplot(1, 3, 2, projection='3d')\n",
    "    ax.scatter(all_obj_estimations[i][:,0], all_obj_estimations[i][:,1], all_obj_estimations[i][:,2])\n",
    "    ax.scatter(reconstructions[i,0], reconstructions[i,1], reconstructions[i,2])\n",
    "    ax.view_init(elev=0, azim=90, roll=0)\n",
    "    ax.set_xlabel('$X$')\n",
    "    ax.set_ylabel('$Y$')\n",
    "    ax.set_zlabel('$Z$')\n",
    "    \n",
    "    ax = fig.add_subplot(1, 3, 3, projection='3d')\n",
    "    ax.scatter(all_obj_estimations[i][:,0], all_obj_estimations[i][:,1], all_obj_estimations[i][:,2])\n",
    "    ax.scatter(reconstructions[i,0], reconstructions[i,1], reconstructions[i,2])\n",
    "    ax.view_init(elev=0, azim=0, roll=0)\n",
    "    ax.set_xlabel('$X$')\n",
    "    ax.set_ylabel('$Y$')\n",
    "    ax.set_zlabel('$Z$')\n",
    "    \n",
    "    plt.show()"
   ]
  }
 ],
 "metadata": {
  "kernelspec": {
   "display_name": "Python 3",
   "language": "python",
   "name": "python3"
  },
  "language_info": {
   "codemirror_mode": {
    "name": "ipython",
    "version": 3
   },
   "file_extension": ".py",
   "mimetype": "text/x-python",
   "name": "python",
   "nbconvert_exporter": "python",
   "pygments_lexer": "ipython3",
   "version": "3.8.3"
  }
 },
 "nbformat": 4,
 "nbformat_minor": 5
}
